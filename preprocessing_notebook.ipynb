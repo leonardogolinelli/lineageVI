{
 "cells": [
  {
   "cell_type": "code",
   "execution_count": 55,
   "id": "4e8ab0f3",
   "metadata": {},
   "outputs": [],
   "source": [
    "import scanpy as sc\n",
    "import scvelo as scv\n",
    "from utils import add_annotations"
   ]
  },
  {
   "cell_type": "code",
   "execution_count": 56,
   "id": "d0e3f63c",
   "metadata": {},
   "outputs": [],
   "source": [
    "adata = scv.datasets.pancreas()"
   ]
  },
  {
   "cell_type": "code",
   "execution_count": 57,
   "id": "576a3200",
   "metadata": {},
   "outputs": [
    {
     "name": "stdout",
     "output_type": "stream",
     "text": [
      "Filtered out 20801 genes that are detected 20 counts (shared).\n",
      "Normalized count data: X, spliced, unspliced.\n",
      "Extracted 2000 highly variable genes.\n",
      "Logarithmized X.\n",
      "computing neighbors\n"
     ]
    },
    {
     "name": "stderr",
     "output_type": "stream",
     "text": [
      "/home/lgolinelli/miniconda3/envs/pytorch-env/lib/python3.11/site-packages/scvelo/preprocessing/utils.py:705: DeprecationWarning: `log1p` is deprecated since scVelo v0.3.0 and will be removed in a future version. Please use `log1p` from `scanpy.pp` instead.\n",
      "  log1p(adata)\n",
      "/tmp/ipykernel_3554920/3504472723.py:3: DeprecationWarning: `neighbors` is deprecated since scvelo==0.4.0 and will be removed in a future version of scVelo. Please compute neighbors with Scanpy.\n",
      "  scv.pp.neighbors(adata, n_neighbors=200)\n"
     ]
    },
    {
     "name": "stdout",
     "output_type": "stream",
     "text": [
      "    finished (0:00:00) --> added \n",
      "    'distances' and 'connectivities', weighted adjacency matrices (adata.obsp)\n",
      "computing moments based on connectivities\n",
      "    finished (0:00:01) --> added \n",
      "    'Ms' and 'Mu', moments of un/spliced abundances (adata.layers)\n"
     ]
    }
   ],
   "source": [
    "sc.pp.pca(adata, n_comps=100)\n",
    "scv.pp.filter_and_normalize(adata, min_shared_counts=20, n_top_genes=2000, subset_highly_variable=True, log=True)\n",
    "scv.pp.neighbors(adata, n_neighbors=200)\n",
    "scv.pp.moments(adata, n_neighbors=200)\n",
    "\n",
    "from sklearn.neighbors import NearestNeighbors\n",
    "nbrs = NearestNeighbors(n_neighbors=20 + 1, metric='euclidean', n_jobs=-1)\n",
    "nbrs.fit(adata.obsm['X_pca'])\n",
    "distances, indices = nbrs.kneighbors(adata.obsm['X_pca'])\n",
    "\n",
    "adata.uns['indices'] = indices"
   ]
  },
  {
   "cell_type": "code",
   "execution_count": 58,
   "id": "b4ad0a7e",
   "metadata": {},
   "outputs": [],
   "source": [
    "add_annotations(\n",
    "    adata, \n",
    "    files=['/home/lgolinelli/git/lineageVI/gene_sets/all_sources_msigdb.gmt'],\n",
    "    min_genes=12,\n",
    "    varm_key='I',\n",
    "    uns_key='terms',\n",
    "    clean=True,\n",
    "    genes_use_upper=True)\n",
    "\n",
    "adata._inplace_subset_var(adata.varm['I'].sum(1) > 0)"
   ]
  },
  {
   "cell_type": "code",
   "execution_count": null,
   "id": "080952f6",
   "metadata": {},
   "outputs": [],
   "source": [
    "adata.write_h5ad('/home/lgolinelli/git/lineageVI/processed_anndatas/pancreas.h5ad')"
   ]
  }
 ],
 "metadata": {
  "kernelspec": {
   "display_name": "Python 3 (ipykernel)",
   "language": "python",
   "name": "python3"
  }
 },
 "nbformat": 4,
 "nbformat_minor": 5
}
