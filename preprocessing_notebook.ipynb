{
 "cells": [
  {
   "cell_type": "code",
   "execution_count": 1,
   "id": "8fcd5b10",
   "metadata": {},
   "outputs": [],
   "source": [
    "from preprocessing import Preprocessor"
   ]
  },
  {
   "cell_type": "code",
   "execution_count": 2,
   "id": "449b8a05",
   "metadata": {},
   "outputs": [
    {
     "name": "stdout",
     "output_type": "stream",
     "text": [
      "Filtered out 20801 genes that are detected 20 counts (shared).\n",
      "Normalized count data: X, spliced, unspliced.\n",
      "Extracted 2000 highly variable genes.\n",
      "Logarithmized X.\n",
      "computing neighbors\n"
     ]
    },
    {
     "name": "stderr",
     "output_type": "stream",
     "text": [
      "/home/lgolinelli/miniconda3/envs/pytorch_env/lib/python3.13/site-packages/scvelo/preprocessing/utils.py:705: DeprecationWarning: `log1p` is deprecated since scVelo v0.3.0 and will be removed in a future version. Please use `log1p` from `scanpy.pp` instead.\n",
      "  log1p(adata)\n",
      "/mnt/beegfs/home/lgolinelli/git/lineageVI/preprocessing.py:67: DeprecationWarning: `neighbors` is deprecated since scvelo==0.4.0 and will be removed in a future version of scVelo. Please compute neighbors with Scanpy.\n",
      "  scv.pp.neighbors(adata, n_neighbors=self.n_neighbors)\n"
     ]
    },
    {
     "name": "stdout",
     "output_type": "stream",
     "text": [
      "    finished (0:00:06) --> added \n",
      "    'distances' and 'connectivities', weighted adjacency matrices (adata.obsp)\n",
      "computing moments based on connectivities\n",
      "    finished (0:00:00) --> added \n",
      "    'Ms' and 'Mu', moments of un/spliced abundances (adata.layers)\n",
      "→ Written processed AnnData to ./processed_input_anndatas_20250721_190514/pancreas.h5ad\n"
     ]
    }
   ],
   "source": [
    "trainer = Preprocessor(        \n",
    "        n_pca = 100,\n",
    "        min_shared_counts = 20,\n",
    "        n_top_genes = 2000,\n",
    "        norm_log = True,\n",
    "        n_neighbors = 200,\n",
    "        knn_neighbors = 20,\n",
    "        annotation_files = '/home/lgolinelli/git/lineageVI/gene_sets/all_sources_msigdb.gmt',\n",
    "        annotation_min_genes = 12,\n",
    "        varm_key = 'I',\n",
    "        uns_key = 'terms',\n",
    "        clean = True,\n",
    "        genes_use_upper = True,\n",
    "        save_path = '.',\n",
    "    )\n",
    "\n",
    "adata = trainer.run()"
   ]
  },
  {
   "cell_type": "code",
   "execution_count": 3,
   "id": "5eae89bb",
   "metadata": {},
   "outputs": [
    {
     "data": {
      "text/plain": [
       "AnnData object with n_obs × n_vars = 3696 × 1805\n",
       "    obs: 'clusters_coarse', 'clusters', 'S_score', 'G2M_score', 'initial_size_unspliced', 'initial_size_spliced', 'initial_size', 'n_counts'\n",
       "    var: 'highly_variable_genes', 'gene_count_corr', 'means', 'dispersions', 'dispersions_norm', 'highly_variable'\n",
       "    uns: 'clusters_coarse_colors', 'clusters_colors', 'day_colors', 'neighbors', 'pca', 'log1p', 'indices', 'terms'\n",
       "    obsm: 'X_pca', 'X_umap'\n",
       "    varm: 'PCs', 'I'\n",
       "    layers: 'spliced', 'unspliced', 'Ms', 'Mu'\n",
       "    obsp: 'distances', 'connectivities'"
      ]
     },
     "execution_count": 3,
     "metadata": {},
     "output_type": "execute_result"
    }
   ],
   "source": [
    "adata"
   ]
  }
 ],
 "metadata": {
  "kernelspec": {
   "display_name": "Python 3 (ipykernel)",
   "language": "python",
   "name": "python3"
  },
  "language_info": {
   "codemirror_mode": {
    "name": "ipython",
    "version": 3
   },
   "file_extension": ".py",
   "mimetype": "text/x-python",
   "name": "python",
   "nbconvert_exporter": "python",
   "pygments_lexer": "ipython3",
   "version": "3.13.5"
  }
 },
 "nbformat": 4,
 "nbformat_minor": 5
}
