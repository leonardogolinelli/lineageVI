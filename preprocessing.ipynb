{
 "cells": [
  {
   "cell_type": "code",
   "execution_count": 130,
   "id": "4e8ab0f3",
   "metadata": {},
   "outputs": [],
   "source": [
    "import scanpy as sc\n",
    "import scvelo as scv\n",
    "from utils import add_annotations, compute_nn_from_connectivity"
   ]
  },
  {
   "cell_type": "code",
   "execution_count": 131,
   "id": "96a59b3b",
   "metadata": {},
   "outputs": [
    {
     "name": "stdout",
     "output_type": "stream",
     "text": [
      "__pycache__\t\t  developer.ipynb\t   training.ipynb\n",
      "adata_with_latent.h5ad\t  gene_sets\t\t   training.py\n",
      "adata_with_velocity.h5ad  input_processed_anndata  training_pancreas_200.ipynb\n",
      "data\t\t\t  model.py\t\t   utils.py\n",
      "dataloader.ipynb\t  modules.py\t\t   vae_velocity_model.pt\n",
      "dataloader.py\t\t  preprocessing.ipynb\n"
     ]
    },
    {
     "name": "stderr",
     "output_type": "stream",
     "text": [
      "/home/lgolinelli/miniconda3/envs/scvi/lib/python3.13/pty.py:95: DeprecationWarning: This process (pid=2148006) is multi-threaded, use of forkpty() may lead to deadlocks in the child.\n",
      "  pid, fd = os.forkpty()\n"
     ]
    }
   ],
   "source": [
    "!ls"
   ]
  },
  {
   "cell_type": "code",
   "execution_count": 132,
   "id": "d0e3f63c",
   "metadata": {},
   "outputs": [],
   "source": [
    "adata = scv.datasets.pancreas()"
   ]
  },
  {
   "cell_type": "code",
   "execution_count": 133,
   "id": "576a3200",
   "metadata": {},
   "outputs": [
    {
     "name": "stdout",
     "output_type": "stream",
     "text": [
      "Filtered out 20801 genes that are detected 20 counts (shared).\n",
      "Normalized count data: X, spliced, unspliced.\n",
      "Extracted 2000 highly variable genes.\n",
      "Logarithmized X.\n",
      "computing neighbors\n"
     ]
    },
    {
     "name": "stderr",
     "output_type": "stream",
     "text": [
      "/home/lgolinelli/miniconda3/envs/scvi/lib/python3.13/site-packages/scvelo/preprocessing/utils.py:705: DeprecationWarning: `log1p` is deprecated since scVelo v0.3.0 and will be removed in a future version. Please use `log1p` from `scanpy.pp` instead.\n",
      "  log1p(adata)\n",
      "/tmp/ipykernel_2148006/3504472723.py:3: DeprecationWarning: `neighbors` is deprecated since scvelo==0.4.0 and will be removed in a future version of scVelo. Please compute neighbors with Scanpy.\n",
      "  scv.pp.neighbors(adata, n_neighbors=200)\n"
     ]
    },
    {
     "name": "stdout",
     "output_type": "stream",
     "text": [
      "    finished (0:00:00) --> added \n",
      "    'distances' and 'connectivities', weighted adjacency matrices (adata.obsp)\n",
      "computing moments based on connectivities\n",
      "    finished (0:00:01) --> added \n",
      "    'Ms' and 'Mu', moments of un/spliced abundances (adata.layers)\n"
     ]
    }
   ],
   "source": [
    "sc.pp.pca(adata, n_comps=100)\n",
    "scv.pp.filter_and_normalize(adata, min_shared_counts=20, n_top_genes=2000, subset_highly_variable=True, log=True)\n",
    "scv.pp.neighbors(adata, n_neighbors=200)\n",
    "scv.pp.moments(adata, n_neighbors=200)\n",
    "\n",
    "from sklearn.neighbors import NearestNeighbors\n",
    "nbrs = NearestNeighbors(n_neighbors=20 + 1, metric='euclidean', n_jobs=-1)\n",
    "nbrs.fit(adata.obsm['X_pca'])\n",
    "distances, indices = nbrs.kneighbors(adata.obsm['X_pca'])\n",
    "\n",
    "adata.uns['indices'] = indices"
   ]
  },
  {
   "cell_type": "code",
   "execution_count": 134,
   "id": "5ec877f9",
   "metadata": {},
   "outputs": [
    {
     "data": {
      "text/plain": [
       "AnnData object with n_obs × n_vars = 3696 × 2000\n",
       "    obs: 'clusters_coarse', 'clusters', 'S_score', 'G2M_score', 'initial_size_unspliced', 'initial_size_spliced', 'initial_size', 'n_counts'\n",
       "    var: 'highly_variable_genes', 'gene_count_corr', 'means', 'dispersions', 'dispersions_norm', 'highly_variable'\n",
       "    uns: 'clusters_coarse_colors', 'clusters_colors', 'day_colors', 'neighbors', 'pca', 'log1p', 'indices'\n",
       "    obsm: 'X_pca', 'X_umap'\n",
       "    varm: 'PCs'\n",
       "    layers: 'spliced', 'unspliced', 'Ms', 'Mu'\n",
       "    obsp: 'distances', 'connectivities'"
      ]
     },
     "execution_count": 134,
     "metadata": {},
     "output_type": "execute_result"
    }
   ],
   "source": [
    "adata"
   ]
  },
  {
   "cell_type": "code",
   "execution_count": 135,
   "id": "b4ad0a7e",
   "metadata": {},
   "outputs": [],
   "source": [
    "add_annotations(\n",
    "    adata, \n",
    "    files=['/home/lgolinelli/git/lineageVI/gene_sets/all_sources_msigdb.gmt'],\n",
    "    min_genes=12,\n",
    "    varm_key='I',\n",
    "    uns_key='terms',\n",
    "    clean=True,\n",
    "    genes_use_upper=True)\n",
    "\n",
    "adata._inplace_subset_var(adata.varm['I'].sum(1) > 0)"
   ]
  },
  {
   "cell_type": "code",
   "execution_count": 136,
   "id": "4597c8be",
   "metadata": {},
   "outputs": [
    {
     "data": {
      "text/plain": [
       "(3696, 100)"
      ]
     },
     "execution_count": 136,
     "metadata": {},
     "output_type": "execute_result"
    }
   ],
   "source": [
    "adata.obsm['X_pca'].shape"
   ]
  },
  {
   "cell_type": "code",
   "execution_count": 137,
   "id": "080952f6",
   "metadata": {},
   "outputs": [],
   "source": [
    "adata.write_h5ad('/home/lgolinelli/git/lineageVI/input_processed_anndata/pancreas_PCA_on_Ms_200moments.h5ad')"
   ]
  }
 ],
 "metadata": {
  "kernelspec": {
   "display_name": "Python 3 (ipykernel)",
   "language": "python",
   "name": "python3"
  },
  "language_info": {
   "codemirror_mode": {
    "name": "ipython",
    "version": 3
   },
   "file_extension": ".py",
   "mimetype": "text/x-python",
   "name": "python",
   "nbconvert_exporter": "python",
   "pygments_lexer": "ipython3",
   "version": "3.13.4"
  }
 },
 "nbformat": 4,
 "nbformat_minor": 5
}
