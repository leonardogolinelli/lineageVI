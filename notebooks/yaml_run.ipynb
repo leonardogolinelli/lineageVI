{
 "cells": [
  {
   "cell_type": "markdown",
   "id": "de8c4d67",
   "metadata": {},
   "source": [
    "TEST."
   ]
  },
  {
   "cell_type": "code",
   "execution_count": null,
   "id": "f96a6f08",
   "metadata": {},
   "outputs": [],
   "source": [
    "from pathlib import Path\n",
    "import yaml\n",
    "from lineagevi.trainer import LineageVI\n",
    "import scanpy as sc\n",
    "\n",
    "OUT = Path(\"data/outputs/2025-08-16_pancreas_run\")\n",
    "OUT.mkdir(parents=True, exist_ok=True)\n",
    "\n",
    "cfg = yaml.safe_load((OUT / \"config.yaml\").read_text())\n",
    "adata = sc.read_h5ad(cfg[\"data\"][\"input_h5ad\"])\n",
    "\n",
    "m = LineageVI(adata, seed=cfg[\"train\"][\"seed\"])\n",
    "m.fit(\n",
    "    K=cfg[\"train\"][\"K\"],\n",
    "    batch_size=cfg[\"train\"][\"batch_size\"],\n",
    "    epochs1=cfg[\"train\"][\"epochs1\"],\n",
    "    epochs2=cfg[\"train\"][\"epochs2\"],\n",
    "    lr=cfg[\"train\"][\"lr\"],\n",
    "    verbose=1,\n",
    ")\n",
    "m.get_adata().write(OUT / \"anndata\" / \"velocity.h5ad\")\n",
    "m.save(OUT / \"model\" / \"lineagevi_model.pt\")"
   ]
  }
 ],
 "metadata": {
  "language_info": {
   "name": "python"
  }
 },
 "nbformat": 4,
 "nbformat_minor": 5
}
