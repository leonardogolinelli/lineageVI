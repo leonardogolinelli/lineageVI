{
 "cells": [
  {
   "cell_type": "code",
   "execution_count": 1,
   "id": "92f75bd3",
   "metadata": {},
   "outputs": [],
   "source": [
    "%load_ext autoreload\n",
    "%autoreload 2"
   ]
  },
  {
   "cell_type": "code",
   "execution_count": 2,
   "id": "d05ba548",
   "metadata": {},
   "outputs": [],
   "source": [
    "import scanpy as sc\n",
    "import torch\n",
    "import lineagevi\n",
    "import numpy as np\n",
    "import pandas as pd"
   ]
  },
  {
   "cell_type": "code",
   "execution_count": 3,
   "id": "d44d69a7",
   "metadata": {},
   "outputs": [],
   "source": [
    "adata_path = '/Users/lgolinelli/git/lineageVI/notebooks/data/outputs/pancreas_2025.08.17_12.43.17/adata_with_velocity.h5ad'\n",
    "adata = sc.read_h5ad(adata_path)\n",
    "\n"
   ]
  },
  {
   "cell_type": "code",
   "execution_count": null,
   "id": "5892c1af",
   "metadata": {},
   "outputs": [],
   "source": [
    "model_path = '/Users/lgolinelli/git/lineageVI/notebooks/data/outputs/pancreas_2025.08.17_12.43.17/vae_velocity_model.pt'\n",
    "\n",
    "linvi = lineagevi.utils.load_model(\n",
    "    adata,\n",
    "    model_path=model_path,\n",
    "    map_location='cpu',\n",
    "    n_hidden=128,\n",
    "    training=False\n",
    ")"
   ]
  },
  {
   "cell_type": "code",
   "execution_count": 10,
   "id": "6b0ad983",
   "metadata": {},
   "outputs": [],
   "source": [
    "df_genes, df_gps, perturbed_outputs = linvi.perturb_genes(\n",
    "                adata=adata,\n",
    "                cell_type_key='clusters',\n",
    "                cell_type_to_perturb='Beta',\n",
    "                genes_to_perturb=['Sntg1', 'Snhg6'],\n",
    "                perturb_value=0,\n",
    "                perturb_spliced=True\n",
    "            )\n"
   ]
  },
  {
   "cell_type": "code",
   "execution_count": 11,
   "id": "c9b109fb",
   "metadata": {},
   "outputs": [],
   "source": [
    "df_genes, df_gps, perturbed_outputs = linvi.perturb_gps(\n",
    "                adata=adata,\n",
    "                gp_uns_key='terms',\n",
    "                gps_to_perturb=['YBX1_TARGETS_DN', 'YBX1_TARGETS_UP'],\n",
    "                cell_type_key='clusters',\n",
    "                ctypes_to_perturb='Beta',\n",
    "                perturb_value=0\n",
    "            )"
   ]
  }
 ],
 "metadata": {
  "kernelspec": {
   "display_name": "test1",
   "language": "python",
   "name": "python3"
  },
  "language_info": {
   "codemirror_mode": {
    "name": "ipython",
    "version": 3
   },
   "file_extension": ".py",
   "mimetype": "text/x-python",
   "name": "python",
   "nbconvert_exporter": "python",
   "pygments_lexer": "ipython3",
   "version": "3.11.13"
  }
 },
 "nbformat": 4,
 "nbformat_minor": 5
}
