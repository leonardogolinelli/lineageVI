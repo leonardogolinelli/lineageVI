{
 "cells": [
  {
   "cell_type": "code",
   "execution_count": 1,
   "id": "d8258b34",
   "metadata": {},
   "outputs": [],
   "source": [
    "%load_ext autoreload\n",
    "%autoreload 2"
   ]
  },
  {
   "cell_type": "code",
   "execution_count": 2,
   "id": "ff3d8f1c",
   "metadata": {},
   "outputs": [],
   "source": [
    "import lineagevi as linvi\n",
    "import scanpy as sc\n",
    "import scvelo as scv\n",
    "import os"
   ]
  },
  {
   "cell_type": "code",
   "execution_count": 3,
   "id": "d0e3f63c",
   "metadata": {},
   "outputs": [],
   "source": [
    "raw_path = '/Users/lgolinelli/git/lineageVI/notebooks/data/inputs/anndata/raw'\n",
    "dataset_name = 'pancreas'\n",
    "raw_adata_path = os.path.join(raw_path, dataset_name + '.h5ad')\n",
    "os.makedirs(raw_path, exist_ok=True)\n",
    "adata = scv.datasets.pancreas(raw_adata_path)"
   ]
  },
  {
   "cell_type": "code",
   "execution_count": 4,
   "id": "576a3200",
   "metadata": {},
   "outputs": [
    {
     "name": "stdout",
     "output_type": "stream",
     "text": [
      "Filtered out 20801 genes that are detected 20 counts (shared).\n",
      "Normalized count data: X, spliced, unspliced.\n",
      "Extracted 2000 highly variable genes.\n",
      "Logarithmized X.\n",
      "computing neighbors\n"
     ]
    },
    {
     "name": "stderr",
     "output_type": "stream",
     "text": [
      "/Users/lgolinelli/miniconda3/envs/test1/lib/python3.11/site-packages/scvelo/preprocessing/utils.py:705: DeprecationWarning: `log1p` is deprecated since scVelo v0.3.0 and will be removed in a future version. Please use `log1p` from `scanpy.pp` instead.\n",
      "  log1p(adata)\n",
      "/var/folders/1x/8dphwyvs0j504xrq138nfssh0000gn/T/ipykernel_14153/3504472723.py:3: DeprecationWarning: `neighbors` is deprecated since scvelo==0.4.0 and will be removed in a future version of scVelo. Please compute neighbors with Scanpy.\n",
      "  scv.pp.neighbors(adata, n_neighbors=200)\n"
     ]
    },
    {
     "name": "stdout",
     "output_type": "stream",
     "text": [
      "    finished (0:00:01) --> added \n",
      "    'distances' and 'connectivities', weighted adjacency matrices (adata.obsp)\n",
      "computing moments based on connectivities\n",
      "    finished (0:00:00) --> added \n",
      "    'Ms' and 'Mu', moments of un/spliced abundances (adata.layers)\n"
     ]
    }
   ],
   "source": [
    "sc.pp.pca(adata, n_comps=100)\n",
    "scv.pp.filter_and_normalize(adata, min_shared_counts=20, n_top_genes=2000, subset_highly_variable=True, log=True)\n",
    "scv.pp.neighbors(adata, n_neighbors=200)\n",
    "scv.pp.moments(adata, n_neighbors=200)\n",
    "\n",
    "from sklearn.neighbors import NearestNeighbors\n",
    "nbrs = NearestNeighbors(n_neighbors=20 + 1, metric='euclidean', n_jobs=-1)\n",
    "nbrs.fit(adata.obsm['X_pca'])\n",
    "distances, indices = nbrs.kneighbors(adata.obsm['X_pca'])\n",
    "\n",
    "adata.uns['indices'] = indices"
   ]
  },
  {
   "cell_type": "code",
   "execution_count": 5,
   "id": "b4ad0a7e",
   "metadata": {},
   "outputs": [],
   "source": [
    "annotation_path = '/Users/lgolinelli/git/lineageVI/notebooks/data/inputs/gene_sets/'\n",
    "annotation_name = 'msigdb_development_or_pancreas.gmt'\n",
    "file_path = os.path.join(annotation_path, annotation_name)\n",
    "os.makedirs(annotation_path, exist_ok=True)\n",
    "\n",
    "linvi.utils.add_annotations(\n",
    "    adata, \n",
    "    files=[file_path],\n",
    "    min_genes=12,\n",
    "    varm_key='I',\n",
    "    uns_key='terms',\n",
    "    clean=True,\n",
    "    genes_use_upper=True)\n",
    "\n",
    "adata._inplace_subset_var(adata.varm['I'].sum(1) > 0)"
   ]
  },
  {
   "cell_type": "code",
   "execution_count": 6,
   "id": "080952f6",
   "metadata": {},
   "outputs": [
    {
     "data": {
      "text/plain": [
       "\"processed_dir_path = '/Users/lgolinelli/git/lineageVI/notebooks/data/inputs/anndata/processed/'\\nprocessed_adata_path = os.path.join(processed_dir_path, dataset_name + '.h5ad')\\nos.makedirs(processed_dir_path, exist_ok=True)\\nadata.write_h5ad(processed_adata_path)\""
      ]
     },
     "execution_count": 6,
     "metadata": {},
     "output_type": "execute_result"
    }
   ],
   "source": [
    "processed_dir_path = '/Users/lgolinelli/git/lineageVI/notebooks/data/inputs/anndata/processed/'\n",
    "processed_adata_path = os.path.join(processed_dir_path, dataset_name + '.h5ad')\n",
    "os.makedirs(processed_dir_path, exist_ok=True)\n",
    "adata.write_h5ad(processed_adata_path)"
   ]
  }
 ],
 "metadata": {
  "kernelspec": {
   "display_name": "test1",
   "language": "python",
   "name": "python3"
  },
  "language_info": {
   "codemirror_mode": {
    "name": "ipython",
    "version": 3
   },
   "file_extension": ".py",
   "mimetype": "text/x-python",
   "name": "python",
   "nbconvert_exporter": "python",
   "pygments_lexer": "ipython3",
   "version": "3.11.13"
  }
 },
 "nbformat": 4,
 "nbformat_minor": 5
}
