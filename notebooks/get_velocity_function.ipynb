{
 "cells": [
  {
   "cell_type": "code",
   "execution_count": 1,
   "id": "5a05adc8",
   "metadata": {},
   "outputs": [],
   "source": [
    "%load_ext autoreload\n",
    "%autoreload 2"
   ]
  },
  {
   "cell_type": "code",
   "execution_count": 2,
   "id": "ddd0d822",
   "metadata": {},
   "outputs": [],
   "source": [
    "import scanpy as sc\n",
    "import torch\n",
    "import lineagevi"
   ]
  },
  {
   "cell_type": "code",
   "execution_count": 4,
   "id": "1ceb3c43",
   "metadata": {},
   "outputs": [
    {
     "data": {
      "text/plain": [
       "LineageVI(\n",
       "  (encoder): Encoder(\n",
       "    (encoder): Sequential(\n",
       "      (0): Linear(in_features=1805, out_features=128, bias=True)\n",
       "      (1): LayerNorm((128,), eps=1e-05, elementwise_affine=True)\n",
       "      (2): ReLU()\n",
       "    )\n",
       "    (mean_layer): Linear(in_features=128, out_features=647, bias=True)\n",
       "    (logvar_layer): Linear(in_features=128, out_features=647, bias=True)\n",
       "  )\n",
       "  (gene_decoder): MaskedLinearDecoder(\n",
       "    (linear): Linear(in_features=647, out_features=1805, bias=True)\n",
       "  )\n",
       "  (velocity_decoder): VelocityDecoder(\n",
       "    (shared_decoder): Sequential(\n",
       "      (0): Linear(in_features=647, out_features=128, bias=True)\n",
       "      (1): LayerNorm((128,), eps=1e-05, elementwise_affine=True)\n",
       "      (2): ReLU()\n",
       "    )\n",
       "    (gp_velocity_decoder): Linear(in_features=128, out_features=647, bias=True)\n",
       "    (gene_velocity_decoder): Sequential(\n",
       "      (0): Linear(in_features=128, out_features=5415, bias=True)\n",
       "      (1): Softplus(beta=1.0, threshold=20.0)\n",
       "    )\n",
       "  )\n",
       ")"
      ]
     },
     "execution_count": 4,
     "metadata": {},
     "output_type": "execute_result"
    }
   ],
   "source": [
    "adata_path = '/Users/lgolinelli/git/lineageVI/notebooks/data/outputs/pancreas_2025.08.17_12.43.17/adata_with_velocity.h5ad'\n",
    "model_path = '/Users/lgolinelli/git/lineageVI/notebooks/data/outputs/pancreas_2025.08.17_12.43.17/vae_velocity_model.pt'\n",
    "\n",
    "adata = sc.read_h5ad(adata_path)\n",
    "\n",
    "model = lineagevi.trainer.LineageVI(\n",
    "    adata,\n",
    ")\n",
    "\n",
    "model.load_state_dict(torch.load(model_path, map_location='cpu'))\n",
    "model.eval()"
   ]
  },
  {
   "cell_type": "code",
   "execution_count": 79,
   "id": "1f6e70e0",
   "metadata": {},
   "outputs": [],
   "source": [
    "u, s = model.get_velocity(adata)"
   ]
  }
 ],
 "metadata": {
  "kernelspec": {
   "display_name": "test1",
   "language": "python",
   "name": "python3"
  },
  "language_info": {
   "codemirror_mode": {
    "name": "ipython",
    "version": 3
   },
   "file_extension": ".py",
   "mimetype": "text/x-python",
   "name": "python",
   "nbconvert_exporter": "python",
   "pygments_lexer": "ipython3",
   "version": "3.11.13"
  }
 },
 "nbformat": 4,
 "nbformat_minor": 5
}
