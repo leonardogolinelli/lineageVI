{
 "cells": [
  {
   "cell_type": "code",
   "execution_count": 1,
   "id": "083e0832",
   "metadata": {},
   "outputs": [],
   "source": [
    "%load_ext autoreload\n",
    "%autoreload 2"
   ]
  },
  {
   "cell_type": "code",
   "execution_count": 11,
   "id": "89ed02e3",
   "metadata": {},
   "outputs": [
    {
     "name": "stdout",
     "output_type": "stream",
     "text": [
      "/Users/lgolinelli/git/lineageVI/src/lineagevi/__init__.py\n"
     ]
    }
   ],
   "source": [
    "import lineagevi as linvi\n",
    "print(linvi.__file__)"
   ]
  },
  {
   "cell_type": "code",
   "execution_count": 12,
   "id": "58d2d4dd",
   "metadata": {},
   "outputs": [
    {
     "ename": "TypeError",
     "evalue": "add_annotations() missing 2 required positional arguments: 'adata' and 'files'",
     "output_type": "error",
     "traceback": [
      "\u001b[31m---------------------------------------------------------------------------\u001b[39m",
      "\u001b[31mTypeError\u001b[39m                                 Traceback (most recent call last)",
      "\u001b[36mCell\u001b[39m\u001b[36m \u001b[39m\u001b[32mIn[12]\u001b[39m\u001b[32m, line 1\u001b[39m\n\u001b[32m----> \u001b[39m\u001b[32m1\u001b[39m \u001b[43mlinvi\u001b[49m\u001b[43m.\u001b[49m\u001b[43mutils\u001b[49m\u001b[43m.\u001b[49m\u001b[43madd_annotations\u001b[49m\u001b[43m(\u001b[49m\u001b[43m)\u001b[49m\n",
      "\u001b[31mTypeError\u001b[39m: add_annotations() missing 2 required positional arguments: 'adata' and 'files'"
     ]
    }
   ],
   "source": [
    "linvi.utils.add_annotations()"
   ]
  }
 ],
 "metadata": {
  "kernelspec": {
   "display_name": "test1",
   "language": "python",
   "name": "python3"
  },
  "language_info": {
   "codemirror_mode": {
    "name": "ipython",
    "version": 3
   },
   "file_extension": ".py",
   "mimetype": "text/x-python",
   "name": "python",
   "nbconvert_exporter": "python",
   "pygments_lexer": "ipython3",
   "version": "3.11.13"
  }
 },
 "nbformat": 4,
 "nbformat_minor": 5
}
