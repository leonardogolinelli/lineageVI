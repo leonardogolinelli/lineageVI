{
 "cells": [
  {
   "cell_type": "code",
   "execution_count": 1,
   "id": "92f75bd3",
   "metadata": {},
   "outputs": [],
   "source": [
    "%load_ext autoreload\n",
    "%autoreload 2"
   ]
  },
  {
   "cell_type": "code",
   "execution_count": 2,
   "id": "d05ba548",
   "metadata": {},
   "outputs": [],
   "source": [
    "import scanpy as sc\n",
    "import torch\n",
    "import lineagevi as linvi\n",
    "import numpy as np\n",
    "import pandas as pd"
   ]
  },
  {
   "cell_type": "code",
   "execution_count": 3,
   "id": "56256c9b",
   "metadata": {},
   "outputs": [
    {
     "data": {
      "text/plain": [
       "LineageVI(\n",
       "  (encoder): Encoder(\n",
       "    (encoder): Sequential(\n",
       "      (0): Linear(in_features=1805, out_features=128, bias=True)\n",
       "      (1): LayerNorm((128,), eps=1e-05, elementwise_affine=True)\n",
       "      (2): ReLU()\n",
       "    )\n",
       "    (mean_layer): Linear(in_features=128, out_features=647, bias=True)\n",
       "    (logvar_layer): Linear(in_features=128, out_features=647, bias=True)\n",
       "  )\n",
       "  (gene_decoder): MaskedLinearDecoder(\n",
       "    (linear): Linear(in_features=647, out_features=1805, bias=True)\n",
       "  )\n",
       "  (velocity_decoder): VelocityDecoder(\n",
       "    (shared_decoder): Sequential(\n",
       "      (0): Linear(in_features=647, out_features=128, bias=True)\n",
       "      (1): LayerNorm((128,), eps=1e-05, elementwise_affine=True)\n",
       "      (2): ReLU()\n",
       "    )\n",
       "    (gp_velocity_decoder): Linear(in_features=128, out_features=647, bias=True)\n",
       "    (gene_velocity_decoder): Sequential(\n",
       "      (0): Linear(in_features=128, out_features=5415, bias=True)\n",
       "      (1): Softplus(beta=1.0, threshold=20.0)\n",
       "    )\n",
       "  )\n",
       ")"
      ]
     },
     "execution_count": 3,
     "metadata": {},
     "output_type": "execute_result"
    }
   ],
   "source": [
    "adata_path = '/Users/lgolinelli/git/lineageVI/notebooks/data/outputs/pancreas_2025.08.17_12.43.17/adata_with_velocity.h5ad'\n",
    "model_path = '/Users/lgolinelli/git/lineageVI/notebooks/data/outputs/pancreas_2025.08.17_12.43.17/vae_velocity_model.pt'\n",
    "\n",
    "adata = sc.read_h5ad(adata_path)\n",
    "\n",
    "model = linvi.trainer.LineageVI(\n",
    "    adata,\n",
    ")\n",
    "\n",
    "model.load_state_dict(torch.load(model_path, map_location='cpu'))\n",
    "model.eval()"
   ]
  },
  {
   "cell_type": "code",
   "execution_count": 4,
   "id": "7f022c5b",
   "metadata": {},
   "outputs": [
    {
     "name": "stdout",
     "output_type": "stream",
     "text": [
      "All categories: Index(['Ductal', 'Ngn3 low EP', 'Ngn3 high EP', 'Pre-endocrine', 'Beta',\n",
      "       'Alpha', 'Delta', 'Epsilon'],\n",
      "      dtype='object')\n",
      "Present: ['Pre-endocrine', 'Ductal', 'Alpha', 'Ngn3 high EP', 'Delta', 'Beta', 'Ngn3 low EP', 'Epsilon']\n",
      "Categories (8, object): ['Ductal', 'Ngn3 low EP', 'Ngn3 high EP', 'Pre-endocrine', 'Beta', 'Alpha', 'Delta', 'Epsilon']\n",
      "Unused: Index([], dtype='object')\n"
     ]
    }
   ],
   "source": [
    "cats = adata.obs['clusters'].cat.categories\n",
    "present = adata.obs['clusters'].unique()\n",
    "unused = cats.difference(present)\n",
    "\n",
    "print(\"All categories:\", cats)\n",
    "print(\"Present:\", present)\n",
    "print(\"Unused:\", unused)\n"
   ]
  },
  {
   "cell_type": "code",
   "execution_count": 5,
   "id": "c6c23ccd",
   "metadata": {},
   "outputs": [
    {
     "data": {
      "text/plain": [
       "index\n",
       "AAACCTGAGAGGGATA    Pre-endocrine\n",
       "AAACCTGAGCCTTGAT           Ductal\n",
       "AAACCTGAGGCAATTA            Alpha\n",
       "AAACCTGCATCATCCC           Ductal\n",
       "AAACCTGGTAAGTGGC     Ngn3 high EP\n",
       "                        ...      \n",
       "TTTGTCAAGTGACATA    Pre-endocrine\n",
       "TTTGTCAAGTGTGGCA     Ngn3 high EP\n",
       "TTTGTCAGTTGTTTGG           Ductal\n",
       "TTTGTCATCGAATGCT            Alpha\n",
       "TTTGTCATCTGTTTGT          Epsilon\n",
       "Name: clusters, Length: 3696, dtype: category\n",
       "Categories (8, object): ['Ductal', 'Ngn3 low EP', 'Ngn3 high EP', 'Pre-endocrine', 'Beta', 'Alpha', 'Delta', 'Epsilon']"
      ]
     },
     "execution_count": 5,
     "metadata": {},
     "output_type": "execute_result"
    }
   ],
   "source": [
    "adata.obs['clusters']"
   ]
  },
  {
   "cell_type": "code",
   "execution_count": 6,
   "id": "6b0ad983",
   "metadata": {},
   "outputs": [],
   "source": [
    "df_genes, df_gps, perturbed_outputs = model.perturb_genes(\n",
    "                adata=adata,\n",
    "                cell_type_key='clusters',\n",
    "                cell_type_to_perturb='Beta',\n",
    "                genes_to_perturb=['Sntg1', 'Snhg6'],\n",
    "                perturb_value=0,\n",
    "                perturb_spliced=True\n",
    "            )\n"
   ]
  },
  {
   "cell_type": "code",
   "execution_count": 7,
   "id": "c9b109fb",
   "metadata": {},
   "outputs": [],
   "source": [
    "df_genes, df_gps, perturbed_outputs = model.perturb_gps(\n",
    "                adata=adata,\n",
    "                gp_uns_key='terms',\n",
    "                gps_to_perturb=['YBX1_TARGETS_DN', 'YBX1_TARGETS_UP'],\n",
    "                cell_type_key='clusters',\n",
    "                ctypes_to_perturb='Beta',\n",
    "                perturb_value=0\n",
    "            )"
   ]
  }
 ],
 "metadata": {
  "kernelspec": {
   "display_name": "test1",
   "language": "python",
   "name": "python3"
  },
  "language_info": {
   "codemirror_mode": {
    "name": "ipython",
    "version": 3
   },
   "file_extension": ".py",
   "mimetype": "text/x-python",
   "name": "python",
   "nbconvert_exporter": "python",
   "pygments_lexer": "ipython3",
   "version": "3.11.13"
  }
 },
 "nbformat": 4,
 "nbformat_minor": 5
}
