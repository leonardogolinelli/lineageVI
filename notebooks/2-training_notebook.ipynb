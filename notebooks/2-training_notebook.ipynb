{
 "cells": [
  {
   "cell_type": "code",
   "execution_count": 1,
   "id": "950f118e",
   "metadata": {},
   "outputs": [],
   "source": [
    "%load_ext autoreload\n",
    "%autoreload 2"
   ]
  },
  {
   "cell_type": "code",
   "execution_count": 2,
   "id": "1927afae",
   "metadata": {},
   "outputs": [],
   "source": [
    "import datetime\n",
    "import scanpy as sc\n",
    "from lineagevi import LineageVI as linvi\n",
    "import os"
   ]
  },
  {
   "cell_type": "code",
   "execution_count": 3,
   "id": "b4d4e5cb",
   "metadata": {},
   "outputs": [],
   "source": [
    "processed_path = '/Users/lgolinelli/git/lineageVI/notebooks/data/inputs/anndata/processed'\n",
    "output_base_path = '/Users/lgolinelli/git/lineageVI/notebooks/data/outputs'\n",
    "dataset_name = 'pancreas'\n",
    "time = datetime.datetime.now().strftime(\"%Y.%m.%d_%H.%M.%S\")\n",
    "output_dir_name =f'{dataset_name}_{time}'\n",
    "output_dir_path = os.path.join(output_base_path, output_dir_name)\n",
    "input_adata_path = os.path.join(processed_path, dataset_name+ '.h5ad')\n",
    "adata = sc.read_h5ad(input_adata_path)"
   ]
  },
  {
   "cell_type": "code",
   "execution_count": 4,
   "id": "35c6ac29",
   "metadata": {},
   "outputs": [],
   "source": [
    "del adata.layers['unspliced']\n",
    "del adata.layers['spliced']"
   ]
  },
  {
   "cell_type": "code",
   "execution_count": 5,
   "id": "a87cda2d",
   "metadata": {},
   "outputs": [],
   "source": [
    "model = linvi(\n",
    "    adata=adata,\n",
    "    n_hidden=128,\n",
    "    mask_key='I',\n",
    "    unspliced_key='Mu',\n",
    "    spliced_key='Ms',\n",
    "    latent_key='z',\n",
    "    nn_key='indices',\n",
    ")"
   ]
  },
  {
   "cell_type": "code",
   "execution_count": 6,
   "id": "be805995",
   "metadata": {},
   "outputs": [
    {
     "name": "stdout",
     "output_type": "stream",
     "text": [
      "[Regime1] Epoch 1/10 - Loss: 29.3109\n",
      "[Regime1] Epoch 2/10 - Loss: 29.1993\n",
      "[Regime1] Epoch 3/10 - Loss: 29.0753\n",
      "[Regime1] Epoch 4/10 - Loss: 28.9174\n",
      "[Regime1] Epoch 5/10 - Loss: 28.7238\n",
      "[Regime1] Epoch 6/10 - Loss: 28.4930\n",
      "[Regime1] Epoch 7/10 - Loss: 28.2322\n",
      "[Regime1] Epoch 8/10 - Loss: 27.9474\n",
      "[Regime1] Epoch 9/10 - Loss: 27.6385\n",
      "[Regime1] Epoch 10/10 - Loss: 27.3086\n",
      "[Regime2] Epoch 1/10 - Velocity Loss: 0.4383\n",
      "[Regime2] Epoch 2/10 - Velocity Loss: 0.3537\n",
      "[Regime2] Epoch 3/10 - Velocity Loss: 0.3335\n",
      "[Regime2] Epoch 4/10 - Velocity Loss: 0.3221\n",
      "[Regime2] Epoch 5/10 - Velocity Loss: 0.3147\n",
      "[Regime2] Epoch 6/10 - Velocity Loss: 0.3099\n",
      "[Regime2] Epoch 7/10 - Velocity Loss: 0.3066\n",
      "[Regime2] Epoch 8/10 - Velocity Loss: 0.3041\n",
      "[Regime2] Epoch 9/10 - Velocity Loss: 0.3024\n",
      "[Regime2] Epoch 10/10 - Velocity Loss: 0.3010\n",
      "Saved AnnData → /Users/lgolinelli/git/lineageVI/notebooks/data/outputs/pancreas_2025.09.13_15.33.03/adata_with_velocity.h5ad\n",
      "Saved model  → /Users/lgolinelli/git/lineageVI/notebooks/data/outputs/pancreas_2025.09.13_15.33.03/vae_velocity_model.pt\n"
     ]
    },
    {
     "data": {
      "text/plain": [
       "{'regime1_loss': [29.31085203426741,\n",
       "  29.199265971328273,\n",
       "  29.075277733080316,\n",
       "  28.917440678650166,\n",
       "  28.723783014140604,\n",
       "  28.492964500988716,\n",
       "  28.23223703557795,\n",
       "  27.947439309322473,\n",
       "  27.638474807078705,\n",
       "  27.308645256670008],\n",
       " 'regime2_velocity_loss': [0.4383074049051706,\n",
       "  0.3537417176739994,\n",
       "  0.33348810866281586,\n",
       "  0.3220536791400992,\n",
       "  0.31474546772060974,\n",
       "  0.3099474299263644,\n",
       "  0.306570526196327,\n",
       "  0.30414431177692497,\n",
       "  0.3023696865612294,\n",
       "  0.301002875938044]}"
      ]
     },
     "execution_count": 6,
     "metadata": {},
     "output_type": "execute_result"
    }
   ],
   "source": [
    "model.fit(\n",
    "    K=10,\n",
    "    batch_size=1024,\n",
    "    lr=1e-3,\n",
    "    epochs1=10,\n",
    "    epochs2=10,\n",
    "    shuffle_regime1=True,\n",
    "    shuffle_regime2=False,\n",
    "    seeds=(0, 1, 2),\n",
    "    output_dir=output_dir_path,   # or None\n",
    "    verbose=1,\n",
    ")"
   ]
  }
 ],
 "metadata": {
  "kernelspec": {
   "display_name": "test1",
   "language": "python",
   "name": "python3"
  },
  "language_info": {
   "codemirror_mode": {
    "name": "ipython",
    "version": 3
   },
   "file_extension": ".py",
   "mimetype": "text/x-python",
   "name": "python",
   "nbconvert_exporter": "python",
   "pygments_lexer": "ipython3",
   "version": "3.11.13"
  }
 },
 "nbformat": 4,
 "nbformat_minor": 5
}
