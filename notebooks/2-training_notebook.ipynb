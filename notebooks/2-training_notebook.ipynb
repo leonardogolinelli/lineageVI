{
 "cells": [
  {
   "cell_type": "code",
   "execution_count": 1,
   "id": "950f118e",
   "metadata": {},
   "outputs": [],
   "source": [
    "%load_ext autoreload\n",
    "%autoreload 2"
   ]
  },
  {
   "cell_type": "code",
   "execution_count": 2,
   "id": "1927afae",
   "metadata": {},
   "outputs": [],
   "source": [
    "import datetime\n",
    "import scanpy as sc\n",
    "from lineagevi import LineageVI as linvi\n",
    "import os"
   ]
  },
  {
   "cell_type": "code",
   "execution_count": 3,
   "id": "b4d4e5cb",
   "metadata": {},
   "outputs": [],
   "source": [
    "processed_path = '/Users/lgolinelli/git/lineageVI/notebooks/data/inputs/anndata/processed'\n",
    "output_base_path = '/Users/lgolinelli/git/lineageVI/notebooks/data/outputs'\n",
    "dataset_name = 'pancreas'\n",
    "time = datetime.datetime.now().strftime(\"%Y.%m.%d_%H.%M.%S\")\n",
    "output_dir_name =f'{dataset_name}_{time}'\n",
    "output_dir_path = os.path.join(output_base_path, output_dir_name)\n",
    "input_adata_path = os.path.join(processed_path, dataset_name+ '.h5ad')\n",
    "adata = sc.read_h5ad(input_adata_path)"
   ]
  },
  {
   "cell_type": "code",
   "execution_count": 4,
   "id": "35c6ac29",
   "metadata": {},
   "outputs": [],
   "source": [
    "del adata.layers['unspliced']\n",
    "del adata.layers['spliced']"
   ]
  },
  {
   "cell_type": "code",
   "execution_count": 5,
   "id": "a87cda2d",
   "metadata": {},
   "outputs": [],
   "source": [
    "model = linvi(\n",
    "    adata=adata,\n",
    "    n_hidden=128,\n",
    "    mask_key='I',\n",
    "    unspliced_key='Mu',\n",
    "    spliced_key='Ms',\n",
    "    latent_key='z',\n",
    "    nn_key='indices',\n",
    ")"
   ]
  },
  {
   "cell_type": "code",
   "execution_count": 6,
   "id": "be805995",
   "metadata": {},
   "outputs": [
    {
     "name": "stdout",
     "output_type": "stream",
     "text": [
      "[Regime1] Epoch 1/10 - Loss: 29.3173\n",
      "[Regime1] Epoch 2/10 - Loss: 29.2059\n",
      "[Regime1] Epoch 3/10 - Loss: 29.0785\n",
      "[Regime1] Epoch 4/10 - Loss: 28.9152\n",
      "[Regime1] Epoch 5/10 - Loss: 28.7129\n",
      "[Regime1] Epoch 6/10 - Loss: 28.4743\n",
      "[Regime1] Epoch 7/10 - Loss: 28.2067\n",
      "[Regime1] Epoch 8/10 - Loss: 27.9128\n",
      "[Regime1] Epoch 9/10 - Loss: 27.5976\n",
      "[Regime1] Epoch 10/10 - Loss: 27.2647\n",
      "[Regime2] Epoch 1/10 - Velocity Loss: 0.4518\n",
      "[Regime2] Epoch 2/10 - Velocity Loss: 0.3581\n",
      "[Regime2] Epoch 3/10 - Velocity Loss: 0.3336\n",
      "[Regime2] Epoch 4/10 - Velocity Loss: 0.3204\n",
      "[Regime2] Epoch 5/10 - Velocity Loss: 0.3125\n",
      "[Regime2] Epoch 6/10 - Velocity Loss: 0.3077\n",
      "[Regime2] Epoch 7/10 - Velocity Loss: 0.3044\n",
      "[Regime2] Epoch 8/10 - Velocity Loss: 0.3021\n",
      "[Regime2] Epoch 9/10 - Velocity Loss: 0.3004\n",
      "[Regime2] Epoch 10/10 - Velocity Loss: 0.2991\n",
      "Saved AnnData → /Users/lgolinelli/git/lineageVI/notebooks/data/outputs/pancreas_2025.09.13_14.25.24/adata_with_velocity.h5ad\n",
      "Saved model  → /Users/lgolinelli/git/lineageVI/notebooks/data/outputs/pancreas_2025.09.13_14.25.24/vae_velocity_model.pt\n"
     ]
    },
    {
     "data": {
      "text/plain": [
       "{'regime1_loss': [29.317345359108664,\n",
       "  29.205945943857166,\n",
       "  29.078512092689415,\n",
       "  28.915214761511074,\n",
       "  28.712870932244634,\n",
       "  28.47432991126915,\n",
       "  28.20671323470739,\n",
       "  27.912806746247526,\n",
       "  27.597611381894065,\n",
       "  27.26468077160063],\n",
       " 'regime2_velocity_loss': [0.4518174579391232,\n",
       "  0.3580563473495054,\n",
       "  0.33360245088478185,\n",
       "  0.3204378241842443,\n",
       "  0.31251465074427714,\n",
       "  0.3076739299606967,\n",
       "  0.3043706313872234,\n",
       "  0.30210468714887445,\n",
       "  0.300398698100796,\n",
       "  0.29911280878178487]}"
      ]
     },
     "execution_count": 6,
     "metadata": {},
     "output_type": "execute_result"
    }
   ],
   "source": [
    "model.fit(\n",
    "    K=10,\n",
    "    batch_size=1024,\n",
    "    lr=1e-3,\n",
    "    epochs1=10,\n",
    "    epochs2=10,\n",
    "    shuffle_regime1=True,\n",
    "    shuffle_regime2=False,\n",
    "    seeds=(0, 1, 2),\n",
    "    output_dir=output_dir_path,   # or None\n",
    "    verbose=1,\n",
    ")"
   ]
  }
 ],
 "metadata": {
  "kernelspec": {
   "display_name": "test1",
   "language": "python",
   "name": "python3"
  },
  "language_info": {
   "codemirror_mode": {
    "name": "ipython",
    "version": 3
   },
   "file_extension": ".py",
   "mimetype": "text/x-python",
   "name": "python",
   "nbconvert_exporter": "python",
   "pygments_lexer": "ipython3",
   "version": "3.11.13"
  }
 },
 "nbformat": 4,
 "nbformat_minor": 5
}
