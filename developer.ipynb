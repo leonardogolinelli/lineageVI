{
 "cells": [
  {
   "cell_type": "code",
   "execution_count": 62,
   "id": "645be6b6",
   "metadata": {},
   "outputs": [],
   "source": [
    "import torch.nn as nn\n",
    "import torch\n",
    "from collections.abc import Iterable\n",
    "import numpy as np"
   ]
  },
  {
   "cell_type": "code",
   "execution_count": null,
   "id": "a29844aa",
   "metadata": {},
   "outputs": [
    {
     "name": "stdout",
     "output_type": "stream",
     "text": [
      "torch.Size([30, 10]) torch.Size([30, 10])\n"
     ]
    },
    {
     "data": {
      "text/plain": [
       "torch.Size([100, 30])"
      ]
     },
     "execution_count": 114,
     "metadata": {},
     "output_type": "execute_result"
    }
   ],
   "source": [
    "class MaskedLinearDecoder(nn.Module):\n",
    "    \"\"\"Linear decoder for scVI with hard mask on its regression weights.\"\"\"\n",
    "    def __init__(\n",
    "        self,\n",
    "        n_input: int,\n",
    "        n_output: int,\n",
    "        mask: torch.Tensor,\n",
    "    ):\n",
    "        \n",
    "        super().__init__()\n",
    "        # 1) keep mask as a buffer (not a parameter)\n",
    "        #    shape must be [out_features, in_features] == [n_output, n_input]\n",
    "        self.register_buffer(\"mask\", mask)\n",
    "\n",
    "        # 2) build your normal 1-layer FCLayers that outputs 2*n_output units\n",
    "        self.linear = nn.Linear(n_input, n_output)\n",
    "\n",
    "        # 4) zero out masked positions at init\n",
    "        with torch.no_grad():\n",
    "            print(self.linear.weight.shape, self.mask.shape)\n",
    "            self.linear.weight.mul_(self.mask)\n",
    "\n",
    "    def forward(self, z):\n",
    "        # 5) re-apply mask on every forward under no_grad\n",
    "        with torch.no_grad():\n",
    "            self.linear.weight.mul_(self.mask)\n",
    "\n",
    "        # 6) proceed as before\n",
    "        return self.linear(z)\n",
    "\n",
    "mask = torch.tensor(np.random.choice([0,1], size=(30,10)))\n",
    "\n",
    "decoder = MaskedLinearDecoder(\n",
    "    10,\n",
    "    30,\n",
    "    mask\n",
    ")\n",
    "\n",
    "z = torch.randn((100,10))\n",
    "out = decoder(z)\n",
    "out.shape"
   ]
  },
  {
   "cell_type": "code",
   "execution_count": 127,
   "id": "2a7a64dc",
   "metadata": {},
   "outputs": [],
   "source": [
    "class VelocityDecoder(nn.Module):\n",
    "    def __init__(\n",
    "        self,\n",
    "        n_input: int,\n",
    "        n_output: int,\n",
    "        n_hidden: int = 128,\n",
    "    ):\n",
    "\n",
    "        super().__init__()\n",
    "        self.shared_decoder = nn.Sequential(\n",
    "            nn.Linear(n_input, n_hidden),\n",
    "            nn.BatchNorm1d(n_hidden),\n",
    "            nn.ReLU(),\n",
    "            nn.Linear(n_hidden, n_hidden),\n",
    "            nn.BatchNorm1d(n_hidden),\n",
    "            nn.ReLU(),\n",
    "        )\n",
    "\n",
    "        self.gene_velocity_decoder = nn.Sequential(\n",
    "                nn.Linear(n_hidden, n_output)\n",
    "        )\n",
    "\n",
    "        self.gp_velocity_decoder = nn.Sequential(\n",
    "                nn.Linear(n_hidden, n_input)\n",
    "        )\n",
    "\n",
    "    def forward(self, z):\n",
    "        # Parameters for latent distribution\n",
    "        h = self.shared_decoder(z)\n",
    "        velocity = self.gene_velocity_decoder(h)\n",
    "        velocity_gp = self.gp_velocity_decoder(h)\n",
    "\n",
    "        return velocity, velocity_gp\n",
    "    \n",
    "velo_decoder = VelocityDecoder(\n",
    "    n_input=10,\n",
    "    n_output=30,\n",
    "    n_hidden=128\n",
    ")\n",
    "\n",
    "velo, velo_gp = velo_decoder(z)"
   ]
  },
  {
   "cell_type": "code",
   "execution_count": null,
   "id": "8bb20eb4",
   "metadata": {},
   "outputs": [],
   "source": [
    "class Encoder(nn.Module):\n",
    "    def __init__(self, n_input: int, n_latent: int, n_hidden: int = 128):\n",
    "        super().__init__()\n",
    "        # shared encoder MLP\n",
    "        self.encoder = nn.Sequential(\n",
    "            nn.Linear(n_input, n_hidden),\n",
    "            nn.BatchNorm1d(n_hidden),\n",
    "            nn.ReLU(),\n",
    "            nn.Linear(n_hidden, n_hidden),\n",
    "            nn.BatchNorm1d(n_hidden),\n",
    "            nn.ReLU(),\n",
    "        )\n",
    "        \n",
    "        # project to mean and log-variance\n",
    "        self.mean_layer   = nn.Linear(n_hidden, n_latent)\n",
    "        self.logvar_layer = nn.Linear(n_hidden, n_latent)\n",
    "\n",
    "    def forward(self, x: torch.Tensor):\n",
    "        h      = self.encoder(x)\n",
    "        mean   = self.mean_layer(h)\n",
    "        logvar = self.logvar_layer(h)\n",
    "        z      = self.reparametrize(mean, logvar)\n",
    "        return z, mean, logvar\n",
    "\n",
    "    @staticmethod\n",
    "    def reparametrize(mean: torch.Tensor, logvar: torch.Tensor) -> torch.Tensor:\n",
    "        std = torch.exp(0.5 * logvar)\n",
    "        eps = torch.randn_like(std)\n",
    "        return mean + eps * std\n",
    "\n",
    "encoder = Encoder(\n",
    "    n_input=200,\n",
    "    n_latent=10,\n",
    "    n_hidden=128\n",
    ")\n",
    "\n",
    "x = torch.randn((20, 200))\n",
    "z, mean, logvar = encoder(x)"
   ]
  },
  {
   "cell_type": "code",
   "execution_count": 142,
   "id": "b6c37f4a",
   "metadata": {},
   "outputs": [
    {
     "data": {
      "text/plain": [
       "tensor([[ 2.7815e+00, -1.2500e+00,  3.4379e-01, -8.9446e-01,  1.4596e+00,\n",
       "         -5.7749e-01,  1.1130e+00,  1.1371e+00, -1.0372e+00, -2.4681e-01],\n",
       "        [-1.5438e+00, -2.0263e+00,  6.4457e-01,  4.0716e-01,  1.8892e+00,\n",
       "         -1.1677e+00, -8.4082e-01,  2.1628e+00,  1.1040e+00, -4.8483e-01],\n",
       "        [ 8.7712e-01, -6.0255e-01,  1.6068e+00,  1.2103e+00,  6.9378e-01,\n",
       "          8.8754e-01,  2.5591e-01, -1.2884e+00, -1.3222e+00,  1.4341e-01],\n",
       "        [-7.3171e-01, -1.3477e-02, -1.0907e+00, -2.6450e-01, -1.2891e+00,\n",
       "         -1.3188e+00, -6.9773e-01,  2.3941e-01,  1.3722e+00,  4.5603e-01],\n",
       "        [ 1.0138e+00, -3.3183e+00,  8.0623e-01, -1.1777e-01, -4.7822e-02,\n",
       "         -1.2980e+00, -7.1306e-01, -9.8975e-01, -1.1985e-01, -2.8009e+00],\n",
       "        [-1.0001e+00, -1.1881e+00,  5.6144e-01,  9.4248e-02, -1.7554e+00,\n",
       "         -3.3904e-01,  6.5655e-01, -1.7898e-01,  6.7672e-01,  1.2773e+00],\n",
       "        [ 1.1776e+00, -4.8968e-01, -5.6751e-01, -1.0875e+00, -9.8670e-01,\n",
       "         -2.2252e-01,  2.6571e-01, -6.6741e-01, -1.8736e+00,  8.0306e-01],\n",
       "        [-3.9120e-01, -6.1649e-01, -9.8969e-02,  2.0722e-01, -1.0609e+00,\n",
       "         -8.0293e-01, -3.0587e-01, -8.6485e-01,  1.0242e+00, -8.9945e-01],\n",
       "        [-5.5329e-01, -2.1911e+00, -7.4479e-01,  6.8928e-01, -2.2041e+00,\n",
       "         -4.8185e-01,  8.2376e-01,  1.6614e+00,  4.9737e-01, -2.2383e+00],\n",
       "        [ 5.7650e-01,  1.7348e+00, -8.2978e-01, -4.8527e-01, -1.1003e+00,\n",
       "          1.9100e+00,  8.1406e-01, -1.5396e+00,  6.4423e-02,  1.5528e+00],\n",
       "        [ 3.8715e-01, -2.1683e+00, -6.0494e-01,  1.3059e-01, -7.7680e-01,\n",
       "          9.6851e-01, -5.7202e-01,  1.3639e+00,  6.6894e-01, -8.2449e-01],\n",
       "        [ 6.9049e-01, -1.6466e+00,  1.1509e+00, -1.3576e+00,  1.6614e+00,\n",
       "          1.5463e+00,  2.3873e+00,  1.1085e+00, -1.4247e+00,  1.0845e+00],\n",
       "        [-2.2416e+00, -2.1510e-02, -5.8792e-01,  2.1511e+00, -2.6762e+00,\n",
       "         -5.1977e-01,  6.3702e-01,  4.9984e-01, -2.6647e-01, -1.8578e-01],\n",
       "        [ 3.5054e-01, -1.4449e+00,  1.9365e+00,  4.0406e-01,  1.1714e+00,\n",
       "         -7.2172e-02, -7.7339e-01,  3.2466e+00,  1.9841e+00, -2.8768e+00],\n",
       "        [-1.1383e+00, -2.1425e+00,  7.4200e-01,  2.5208e-01,  1.8067e-01,\n",
       "          1.0803e+00,  7.2463e-01, -1.5991e+00, -1.1889e+00,  1.7457e+00],\n",
       "        [ 1.3408e+00, -8.8314e-01, -1.0106e+00, -2.0304e+00, -8.9896e-01,\n",
       "          2.0372e+00,  5.4671e-01, -2.0011e+00,  7.6308e-03, -6.8157e-01],\n",
       "        [-7.6689e-01, -6.9496e-01, -1.7516e+00,  1.7843e+00,  1.4745e+00,\n",
       "         -1.8791e-01,  2.3443e-02, -1.4715e+00,  3.2437e+00, -1.6189e+00],\n",
       "        [-1.7112e+00, -1.6301e+00, -2.3456e-01, -1.0167e+00,  1.4955e+00,\n",
       "         -2.5240e+00,  3.8272e-01, -4.1379e-01, -5.9340e-02,  1.5719e+00],\n",
       "        [ 3.3463e-01, -2.6320e+00, -3.3275e-01,  4.8804e-01,  1.3649e-01,\n",
       "          2.4287e-01, -5.3342e-02, -1.8293e-02, -1.6863e-03, -2.1463e+00],\n",
       "        [-5.4060e-01, -6.6965e-01,  2.5490e+00,  2.7470e-01, -2.3550e+00,\n",
       "          1.2378e+00, -1.5279e-01,  4.7566e-01, -7.8622e-01,  4.3561e-01]],\n",
       "       grad_fn=<AddBackward0>)"
      ]
     },
     "execution_count": 142,
     "metadata": {},
     "output_type": "execute_result"
    }
   ],
   "source": [
    "z"
   ]
  }
 ],
 "metadata": {
  "kernelspec": {
   "display_name": "Python 3 (ipykernel)",
   "language": "python",
   "name": "python3"
  },
  "language_info": {
   "codemirror_mode": {
    "name": "ipython",
    "version": 3
   },
   "file_extension": ".py",
   "mimetype": "text/x-python",
   "name": "python",
   "nbconvert_exporter": "python",
   "pygments_lexer": "ipython3",
   "version": "3.13.4"
  }
 },
 "nbformat": 4,
 "nbformat_minor": 5
}
