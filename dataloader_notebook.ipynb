{
 "cells": [
  {
   "cell_type": "code",
   "execution_count": 80,
   "id": "4e278db0",
   "metadata": {},
   "outputs": [],
   "source": [
    "# dataloader.py\n",
    "\n",
    "import torch\n",
    "from torch.utils.data import Dataset, DataLoader\n",
    "import numpy as np\n",
    "import scipy.sparse as sp\n",
    "import scanpy as sc\n",
    "import random\n",
    "\n",
    "class RegimeDataset(Dataset):\n",
    "    def __init__(\n",
    "        self,\n",
    "        adata: sc.AnnData,\n",
    "        K: int,\n",
    "        unspliced_key: str = 'unspliced',\n",
    "        spliced_key: str = 'spliced',\n",
    "        latent_key: str = 'z',\n",
    "        nn_key: str = 'indices',\n",
    "    ):\n",
    "        self.adata        = adata\n",
    "        self.K            = K\n",
    "        self.unspliced_key = unspliced_key\n",
    "        self.spliced_key  = spliced_key\n",
    "        self.latent_key   = latent_key\n",
    "\n",
    "        # kNN indices from adata.uns['indices']\n",
    "        indices = adata.uns.get(nn_key)\n",
    "        if indices is None:\n",
    "            raise KeyError(f\"adata.uns['{nn_key}'] not found\")\n",
    "        self.nn_indices = torch.from_numpy(np.asarray(indices, dtype=np.int64))\n",
    "\n",
    "        # full unspliced+spliced counts\n",
    "        u = adata.layers[unspliced_key]\n",
    "        s = adata.layers[spliced_key]\n",
    "        u = u.toarray().astype(np.float32) if sp.issparse(u) else np.asarray(u, dtype=np.float32)\n",
    "        s = s.toarray().astype(np.float32) if sp.issparse(s) else np.asarray(s, dtype=np.float32)\n",
    "        full = np.concatenate([u, s], axis=1)\n",
    "        self.x = torch.from_numpy(full)\n",
    "\n",
    "        # will load latent z at switch to regime 2\n",
    "        self.latent_data = None\n",
    "        self.first_regime = True\n",
    "\n",
    "    def set_regime(self, first: bool):\n",
    "        \"\"\"Switch between expression‐based regime (first) and latent‐based (second).\"\"\"\n",
    "        self.first_regime = first\n",
    "        if not first and self.latent_data is None:\n",
    "            z = self.adata.obsm[self.latent_key]\n",
    "            self.latent_data = torch.from_numpy(np.asarray(z, dtype=np.float32))\n",
    "\n",
    "    def __len__(self):\n",
    "        return len(self.x)\n",
    "\n",
    "    def __getitem__(self, idx: int):\n",
    "        # exclude self (position 0), take next K neighbors\n",
    "        neigh_idx = self.nn_indices[idx, 1:self.K+1]\n",
    "        x_neigh   = self.x[neigh_idx]  # (K, G)\n",
    "\n",
    "        if self.first_regime:\n",
    "            x = self.x[idx]\n",
    "            return x, idx, x_neigh      # you only need x and its neighs\n",
    "        else:\n",
    "            x       = self.x[idx]\n",
    "            z       = self.latent_data[idx]\n",
    "            z_neigh = self.latent_data[neigh_idx]\n",
    "            return x, idx, x_neigh, z, z_neigh\n",
    "\n",
    "def make_dataloader(\n",
    "    adata: sc.AnnData,\n",
    "    first_regime: bool = True,\n",
    "    K: int = 10,\n",
    "    unspliced_key: str = 'unspliced',\n",
    "    spliced_key: str = 'spliced',\n",
    "    latent_key: str = 'z',\n",
    "    nn_key: str = 'indices',\n",
    "    batch_size: int = 64,\n",
    "    shuffle: bool = True,\n",
    "    num_workers: int = 0,\n",
    "    seed: int = 0,\n",
    ") -> DataLoader:\n",
    "    if seed is not None:\n",
    "        random.seed(seed)\n",
    "        np.random.seed(seed)\n",
    "        torch.manual_seed(seed)\n",
    "\n",
    "    ds = RegimeDataset(\n",
    "        adata, K,\n",
    "        unspliced_key=unspliced_key,\n",
    "        spliced_key=spliced_key,\n",
    "        latent_key=latent_key,\n",
    "        nn_key=nn_key,\n",
    "    )\n",
    "    ds.set_regime(first_regime)\n",
    "\n",
    "    gen = None\n",
    "    if shuffle and seed is not None:\n",
    "        gen = torch.Generator()\n",
    "        gen.manual_seed(seed)\n",
    "\n",
    "    return DataLoader(\n",
    "        ds,\n",
    "        batch_size=batch_size,\n",
    "        shuffle=shuffle,\n",
    "        num_workers=num_workers,\n",
    "        generator=gen,\n",
    "    )\n",
    "\n"
   ]
  },
  {
   "cell_type": "code",
   "execution_count": 75,
   "id": "6a6380ba",
   "metadata": {},
   "outputs": [],
   "source": [
    "adata = sc.read_h5ad('/home/lgolinelli/git/lineageVI/input_processed_anndata/pancreas.h5ad')"
   ]
  },
  {
   "cell_type": "code",
   "execution_count": 76,
   "id": "7aaf5f75",
   "metadata": {},
   "outputs": [],
   "source": [
    "adata.obsm['z'] = np.random.randn(adata.shape[0], 30)"
   ]
  },
  {
   "cell_type": "code",
   "execution_count": 77,
   "id": "12763d22",
   "metadata": {},
   "outputs": [
    {
     "data": {
      "text/plain": [
       "(3696, 30)"
      ]
     },
     "execution_count": 77,
     "metadata": {},
     "output_type": "execute_result"
    }
   ],
   "source": [
    "adata.obsm['z'].shape"
   ]
  },
  {
   "cell_type": "code",
   "execution_count": 81,
   "id": "b5e6bad0",
   "metadata": {},
   "outputs": [
    {
     "name": "stdout",
     "output_type": "stream",
     "text": [
      "torch.Size([64, 3610])\n",
      "torch.Size([64])\n",
      "torch.Size([64, 10, 3610])\n"
     ]
    }
   ],
   "source": [
    "dl_first = make_dataloader(\n",
    "        adata,\n",
    "        first_regime = True,\n",
    "        K = 10,\n",
    "        unspliced_key = 'unspliced',\n",
    "        spliced_key = 'spliced',\n",
    "        latent_key = 'z',\n",
    "        batch_size = 64,\n",
    "        shuffle = True,\n",
    "        num_workers = 0,\n",
    "        seed=0)\n",
    "\n",
    "for epoch in range(1):\n",
    "    for x_batch, idx_batch, x_neigh_batch in dl_first:\n",
    "        print(x_batch.shape)\n",
    "        print(idx_batch.shape)\n",
    "        print(x_neigh_batch.shape)\n",
    "        break\n"
   ]
  },
  {
   "cell_type": "code",
   "execution_count": 82,
   "id": "963024b3",
   "metadata": {},
   "outputs": [
    {
     "name": "stdout",
     "output_type": "stream",
     "text": [
      "torch.Size([64, 3610])\n",
      "torch.Size([64])\n",
      "torch.Size([64, 10, 3610])\n",
      "torch.Size([64, 30])\n",
      "torch.Size([64, 10, 30])\n"
     ]
    }
   ],
   "source": [
    "dl_second = make_dataloader(\n",
    "        adata,\n",
    "        first_regime=False,\n",
    "        unspliced_key = 'unspliced',\n",
    "        spliced_key = 'spliced',\n",
    "        latent_key = 'z',\n",
    "        batch_size = 64,\n",
    "        shuffle = True,\n",
    "        num_workers = 0,\n",
    "        seed=1)\n",
    "\n",
    "for epoch in range(1):\n",
    "    for x_batch, idx_batch, x_neigh_batch, z_batch, z_neigh_batch in dl_second:\n",
    "        print(x_batch.shape)\n",
    "        print(idx_batch.shape)\n",
    "        print(x_neigh_batch.shape)\n",
    "        print(z_batch.shape)\n",
    "        print(z_neigh_batch.shape)\n",
    "        break\n"
   ]
  },
  {
   "cell_type": "code",
   "execution_count": null,
   "id": "e750daa8",
   "metadata": {},
   "outputs": [],
   "source": []
  }
 ],
 "metadata": {
  "kernelspec": {
   "display_name": "Python 3 (ipykernel)",
   "language": "python",
   "name": "python3"
  }
 },
 "nbformat": 4,
 "nbformat_minor": 5
}
